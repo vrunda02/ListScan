{
 "cells": [
  {
   "cell_type": "markdown",
   "id": "d38571d2-0770-4518-887c-5e978304a01a",
   "metadata": {},
   "source": [
    "## Title"
   ]
  },
  {
   "cell_type": "markdown",
   "id": "8f292153-7624-4e93-bd8d-de904a86b657",
   "metadata": {},
   "source": [
    "In today's digital age, a significant amount of information is still stored in analog formats, such as handwritten notes, printed documents, and signage. Converting this analog text into digital format can be a time-consuming and error-prone process, hindering productivity and accessibility.  Our solution aims to accurately interpret text content from images and convert it into editable digital format. This technology has the potential to revolutionize various industries, including document digitization, data analysis, and accessibility services."
   ]
  },
  {
   "cell_type": "markdown",
   "id": "c9727a84-3c53-4f51-9c39-a26313b0b3f4",
   "metadata": {},
   "source": [
    "# Importing necesary libraries"
   ]
  },
  {
   "cell_type": "code",
   "execution_count": 1,
   "id": "02369193-4fc9-4f20-95a8-36b4fc008f02",
   "metadata": {
    "tags": []
   },
   "outputs": [],
   "source": [
    "#pip install opencv-python\n",
    "#!pip install -q keras-ocr\n",
    "#!pip install tensorflow"
   ]
  },
  {
   "cell_type": "code",
   "execution_count": null,
   "id": "ee5491dd-72dc-4395-9cc5-7587dd2b6440",
   "metadata": {},
   "outputs": [],
   "source": [
    "!pip install firebase-admin"
   ]
  },
  {
   "cell_type": "code",
   "execution_count": 2,
   "id": "83b41efa-3bb7-44ed-9be0-7a9a34fee47b",
   "metadata": {
    "tags": []
   },
   "outputs": [
    {
     "name": "stdout",
     "output_type": "stream",
     "text": [
      "WARNING:tensorflow:From C:\\Users\\Pareshbhai\\AppData\\Roaming\\Python\\Python311\\site-packages\\keras\\src\\losses.py:2976: The name tf.losses.sparse_softmax_cross_entropy is deprecated. Please use tf.compat.v1.losses.sparse_softmax_cross_entropy instead.\n",
      "\n",
      "WARNING:tensorflow:From C:\\Users\\Pareshbhai\\AppData\\Roaming\\Python\\Python311\\site-packages\\keras\\src\\backend.py:873: The name tf.get_default_graph is deprecated. Please use tf.compat.v1.get_default_graph instead.\n",
      "\n"
     ]
    }
   ],
   "source": [
    "import cv2\n",
    "import matplotlib.pyplot as plt\n",
    "import keras_ocr\n",
    "import math\n",
    "import pandas as pd\n",
    "import numpy as np\n",
    "from difflib import get_close_matches"
   ]
  },
  {
   "cell_type": "code",
   "execution_count": 14,
   "id": "9b0c8738-f9db-4c84-a09d-b8232a256ba2",
   "metadata": {
    "tags": []
   },
   "outputs": [
    {
     "data": {
      "text/plain": [
       "'This will return a tuple consisting of string and array of its position in the order of...(word, ([[top-left], [top-right],\\n[bottom-right], [bottom-left]]))'"
      ]
     },
     "execution_count": 14,
     "metadata": {},
     "output_type": "execute_result"
    }
   ],
   "source": [
    "def process_image(images):\n",
    "    # Load the image\n",
    "    for imgpath in images:\n",
    "        img = cv2.imread(imgpath)\n",
    "\n",
    "        # Initialize the Keras OCR pipeline\n",
    "        pipeline = keras_ocr.pipeline.Pipeline()\n",
    "\n",
    "        # Extract text from the\n",
    "        predictions = pipeline.recognize([img])[0]\n",
    "\n",
    "        #Plot the image with the extracted text\n",
    "        fig, ax = plt.subplots(figsize=(3, 4))\n",
    "        keras_ocr.tools.drawAnnotations(image=img, predictions=predictions, ax=ax)\n",
    "        plt.show()\n",
    "        #print (\"\\nFirst two tuples:\",predictions[0],'\\n',predictions[1])\n",
    "        #print (\"Type of predictions:\",type(predictions))\n",
    "        #print (\"Type of items in predictions:\",type(predictions[0]))\n",
    "        #print (\"Type of the words:\",type(predictions[0][0]))\n",
    "        #print (\"Type of its position:\",type(predictions[0][1]))\n",
    "        #print(\"top-left:\",predictions[0][1][0])\n",
    "        #print(\"top-right:\",predictions[0][1][1])\n",
    "        #print(\"bottom-left:\",predictions[0][1][2])\n",
    "        #print(\"bottom-right:\",predictions[0][1][3])\n",
    "    return predictions\n",
    "'''This will return a tuple consisting of string and array of its position in the order of...(word, ([[top-left], [top-right],\n",
    "[bottom-right], [bottom-left]]))'''"
   ]
  },
  {
   "cell_type": "markdown",
   "id": "519c35f0-8a3e-4ef2-a3e3-61406d058cc0",
   "metadata": {},
   "source": [
    "The text was extracted from an image using Keras-OCR and sorted using the Pythagorean Theorem. The center of each bounding box is measured in distances from the origin (0,0), and the list of distances is sorted according to unique rows and columns. If the triangle widens, the row remains the same; if it grows longer beyond the given threshold, the row changes. The results are stored in a list of dictionaries containing multiple key-value pairs."
   ]
  },
  {
   "cell_type": "code",
   "execution_count": 4,
   "id": "d498e35b-b570-44d0-9afa-c0aa2cd135da",
   "metadata": {
    "tags": []
   },
   "outputs": [],
   "source": [
    "def get_distance(predictions):\n",
    "    \"\"\"\n",
    "    Function returns dictionary with (key,value):\n",
    "        * text : detected text in image\n",
    "        * center_x : center of bounding box (x)\n",
    "        * center_y : center of bounding box (y)\n",
    "        * distance_from_origin : hypotenuse\n",
    "        * distance_y : distance between y and #origin (0,0)\n",
    "    \"\"\"\n",
    "    \n",
    "    # Point of origin\n",
    "    x0, y0 = 0, 0\n",
    "    detections = []\n",
    "    for group in predictions:\n",
    "        # Get center point of bounding box\n",
    "        top_left_x, top_left_y = group[1][0]\n",
    "        bottom_right_x, bottom_right_y = group[1][1]\n",
    "        center_x = (top_left_x + bottom_right_x) / 2\n",
    "        center_y = (top_left_y + bottom_right_y) / 2\n",
    "        # Use the Pythagorean Theorem to solve for distance from origin\n",
    "        distance_from_origin = math.dist([x0,y0], [center_x, center_y])\n",
    "        # Calculate difference between y and origin to get unique rows\n",
    "        distance_y = center_y - y0\n",
    "        # Append all results\n",
    "        detections.append({\n",
    "                            'text':group[0],\n",
    "                            'center_x':center_x,\n",
    "                            'center_y':center_y,\n",
    "                            'distance_from_origin':distance_from_origin,\n",
    "                            'distance_y':distance_y\n",
    "                        })\n",
    "    return detections\n"
   ]
  },
  {
   "cell_type": "code",
   "execution_count": 5,
   "id": "55085d5f-313b-445b-a3c9-d8faa721fd7d",
   "metadata": {
    "tags": []
   },
   "outputs": [],
   "source": [
    "def distinguish_rows(lst, thresh=25, max_thresh=300):\n",
    "    \"\"\"Function to help distinguish unique rows\"\"\"\n",
    "    \n",
    "    sublists = [] \n",
    "    for i in range(0, len(lst)-1):\n",
    "        if lst[i+1]['distance_y'] - lst[i]['distance_y'] <= thresh:\n",
    "            if lst[i] not in sublists:\n",
    "                sublists.append(lst[i])\n",
    "            sublists.append(lst[i+1])\n",
    "        elif lst[i+1]['distance_y'] - lst[i]['distance_y'] >= max_thresh:\n",
    "            continue\n",
    "        else:\n",
    "            yield sublists\n",
    "            sublists = [lst[i+1]]\n",
    "    yield sublists\n"
   ]
  },
  {
   "cell_type": "code",
   "execution_count": 6,
   "id": "8d86f8e4-db52-40f6-9c36-60add8d9ad4c",
   "metadata": {
    "tags": []
   },
   "outputs": [],
   "source": [
    "def find_most_similar_word(input_word):\n",
    "    data=pd.read_csv(\"Book1.csv\")\n",
    "    correct_words = list(data['Item'].astype(str))\n",
    "    closest_match = get_close_matches(input_word, correct_words, n=1)\n",
    "    return closest_match[0] if closest_match else None\n",
    "\n"
   ]
  },
  {
   "cell_type": "code",
   "execution_count": 7,
   "id": "edef2171-6147-4fdd-9db9-c7b220a0a18f",
   "metadata": {
    "tags": []
   },
   "outputs": [],
   "source": [
    "def check_items(ordered_preds):\n",
    "    items,quantity=[],[]\n",
    "    for i in ordered_preds:\n",
    "        first_letter=i[0]\n",
    "        if (first_letter.isdigit()):\n",
    "            quantity.append(i)\n",
    "        else:\n",
    "            items.append(i.capitalize())\n",
    "    \n",
    "    input_word = (items)\n",
    "    item_f=[]\n",
    "    for word in input_word:\n",
    "        most_similar_word = find_most_similar_word(word)\n",
    "        if most_similar_word:\n",
    "            item_f.append(most_similar_word)\n",
    "        else:\n",
    "            pass\n",
    "    order=dict(zip(item_f,quantity))\n",
    "    return order"
   ]
  },
  {
   "cell_type": "code",
   "execution_count": 8,
   "id": "03f1b5c1-23d2-480b-a1c1-6df33c9fa735",
   "metadata": {
    "tags": []
   },
   "outputs": [],
   "source": [
    "def fetch_data(order):\n",
    "    data = pd.read_csv(\"Book1.csv\")\n",
    "    orderdf = pd.DataFrame(columns=[\"Name\", \"Brand\", \"Price\", \"Quantity\"])\n",
    "\n",
    "    # Loop through each item_category in the order dictionary\n",
    "    for item_category, quantity in order.items():\n",
    "        # Filter the DataFrame by item_category\n",
    "        filtered_df = data[data[\"Item\"] == item_category].head(1)\n",
    "        \n",
    "        # Extract relevant columns and create a DataFrame for the current item_category\n",
    "        df = filtered_df[[\"Name\", \"Brand\", \"Price\", \"Quantity\"]]\n",
    "        \n",
    "        # Append the row for the current item_category to orderdf\n",
    "        orderdf = pd.concat([orderdf, df], ignore_index=True)\n",
    "    \n",
    "    return orderdf\n"
   ]
  },
  {
   "cell_type": "code",
   "execution_count": 16,
   "id": "c0ab928f-f7fa-4b3b-92d9-a39f9ee07e18",
   "metadata": {
    "tags": []
   },
   "outputs": [
    {
     "name": "stdout",
     "output_type": "stream",
     "text": [
      "Looking for C:\\Users\\Pareshbhai\\.keras-ocr\\craft_mlt_25k.h5\n",
      "Looking for C:\\Users\\Pareshbhai\\.keras-ocr\\crnn_kurapan.h5\n",
      "1/1 [==============================] - 4s 4s/step\n",
      "1/1 [==============================] - 20s 20s/step\n"
     ]
    },
    {
     "data": {
      "image/png": "[encoded data removed]",
      "text/plain": [
       "<Figure size 300x400 with 1 Axes>"
      ]
     },
     "metadata": {},
     "output_type": "display_data"
    },
    {
     "name": "stdout",
     "output_type": "stream",
     "text": [
      "{'Tur Dal': '100g', 'Urad Dal': '250g', 'Bournvita': '200g', 'Noodles': '100g'}\n",
      "                                    Name              Brand Price Quantity\n",
      "0                          Tur Dal Latur                NaN    78   500 gm\n",
      "1                        Udid (Urad) Dal                NaN    88   500 gm\n",
      "2  Cadbury Bournvita Health Drink Refill  Cadbury Bournvita   320   750 gm\n",
      "3   Sunfeast Yippee Noodles Magic Masala           Sunfeast   105   520 gm\n"
     ]
    }
   ],
   "source": [
    "\n",
    "image=[\"image3.png\"]\n",
    "def main(image):\n",
    "    predictions=process_image(image)\n",
    "    predictions=get_distance(predictions)\n",
    "    predictions = list(distinguish_rows(predictions))\n",
    "    predictions = list(filter(lambda x:x!=[], predictions))# Remove all empty rows\n",
    "\n",
    "    ordered_preds = []\n",
    "    order='yes'\n",
    "    ylst = ['yes', 'y']\n",
    "    for pr in predictions:\n",
    "        if order in ylst: \n",
    "            row = sorted(pr, key=lambda x:x['distance_from_origin'])\n",
    "            for each in row: \n",
    "                ordered_preds.append(each['text'])\n",
    "    \n",
    "    order = check_items(ordered_preds)\n",
    "    print(order)\n",
    "    df=fetch_data(order)\n",
    "    print(df)\n",
    "main(image)\n",
    "    "
   ]
  },
  {
   "cell_type": "code",
   "execution_count": null,
   "id": "a03f3a95-1151-4fbc-aba1-88944a7cb482",
   "metadata": {},
   "outputs": [],
   "source": []
  },
  {
   "cell_type": "code",
   "execution_count": null,
   "id": "a8d6ce92-92d4-455d-bbad-c8c8fee32c05",
   "metadata": {},
   "outputs": [],
   "source": []
  }
 ],
 "metadata": {
  "kernelspec": {
   "display_name": "Python 3 (ipykernel)",
   "language": "python",
   "name": "python3"
  },
  "language_info": {
   "codemirror_mode": {
    "name": "ipython",
    "version": 3
   },
   "file_extension": ".py",
   "mimetype": "text/x-python",
   "name": "python",
   "nbconvert_exporter": "python",
   "pygments_lexer": "ipython3",
   "version": "3.11.5"
  }
 },
 "nbformat": 4,
 "nbformat_minor": 5
}
